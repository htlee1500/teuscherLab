{
 "cells": [
  {
   "cell_type": "code",
   "execution_count": 2,
   "id": "98d68067",
   "metadata": {},
   "outputs": [],
   "source": [
    "from brian2 import *\n",
    "import numpy\n",
    "import numpy\n",
    "%matplotlib inline"
   ]
  },
  {
   "cell_type": "code",
   "execution_count": 7,
   "id": "7ca2a37f",
   "metadata": {},
   "outputs": [
    {
     "name": "stderr",
     "output_type": "stream",
     "text": [
      "WARNING    'synapses_3' has been included in the network but not the object on which it depends.Setting 'synapses_3' to inactive. [brian2.core.magic.dependency_warning]\n",
      "WARNING    'synapses_2' has been included in the network but not the object on which it depends.Setting 'synapses_2' to inactive. [brian2.core.magic.dependency_warning]\n"
     ]
    }
   ],
   "source": [
    "#start_scope()\n",
    "\n",
    "# parameter for noise\n",
    "sigma = 0.0\n",
    "\n",
    "# parameters for network size\n",
    "inputDim = 10\n",
    "numHidden = 3\n",
    "hiddenDim = 10\n",
    "outputDim = 10\n",
    "\n",
    "# diff-equation for neurons\n",
    "eqs = '''\n",
    "dv/dt = (I-v)/tau + sigma*xi*tau**-0.5 : 1 (unless refractory)\n",
    "I : 1\n",
    "tau : second\n",
    "'''\n",
    "\n",
    "\n",
    "\n",
    "\n",
    "# setup for neurons\n",
    "InputLayer = NeuronGroup(inputDim, eqs, threshold='v>=1', reset='v = 0', refractory=5*ms, method='euler')\n",
    "inputCurrent = list()\n",
    "inputTau = list()\n",
    "for i in range(inputDim):\n",
    "    inputCurrent.append(.05)\n",
    "    inputTau.append(10)\n",
    "InputLayer.I = inputCurrent\n",
    "InputLayer.tau = inputTau*ms\n",
    "\n",
    "HiddenLayers = list()\n",
    "for i in range(numHidden):\n",
    "    HiddenLayers.append(NeuronGroup(hiddenDim, eqs, threshold='v>=1', reset='v = 0', refractory=5*ms, method='euler'))\n",
    "    hiddenCurrent = list()\n",
    "    hiddenTau = list()\n",
    "    for j in range(hiddenDim):\n",
    "        hiddenCurrent.append(.05)\n",
    "        hiddenTau.append(10)\n",
    "    \n",
    "    HiddenLayers[i].I = hiddenCurrent\n",
    "    HiddenLayers[i].tau = hiddenTau*ms\n",
    "\n",
    "OutputLayer = NeuronGroup(outputDim, eqs, threshold='v>=1', reset='v = 0', refractory=5*ms, method='euler')\n",
    "outputCurrent = list()\n",
    "outputTau = list()\n",
    "for i in range(outputDim):\n",
    "    outputCurrent.append(.05)\n",
    "    outputTau.append(10)\n",
    "OutputLayer.I = outputCurrent\n",
    "OutputLayer.tau = outputTau*ms\n",
    "\n",
    "#Set synapses between each layer; each neuron gets its feedforward trace and spikes from the previous layer\n",
    "# input layer connects to all nodes of first hidden layer\n",
    "# hidden layers are connected to all of each other\n",
    "# final hidden layer connects to all of output layer\n",
    "InputSynapses = Synapses(InputLayer, HiddenLayers[0], 'w : 1', on_pre = 'v_post += w')\n",
    "InputSynapses.connect()\n",
    "InputSynapses.w = 0.05\n",
    "\n",
    "HiddenSynapses = list()\n",
    "for i in range(numHidden - 1): \n",
    "    HiddenSynapses.append(Synapses(HiddenLayers[i], HiddenLayers[i+1], 'w : 1', on_pre = 'v_post += w'))\n",
    "    HiddenSynapses[i].connect()\n",
    "    HiddenSynapses[i].w = 0.05\n",
    "\n",
    "OutputSynapses = Synapses(HiddenLayers[numHidden - 1], OutputLayer, 'w : 1', on_pre = 'v_post += w')\n",
    "OutputSynapses.connect()\n",
    "OutputSynapses.w = 0.05\n",
    "\n",
    "\n",
    "\n",
    "\n",
    "\n",
    "run(200*ms)"
   ]
  },
  {
   "cell_type": "code",
   "execution_count": null,
   "id": "68488418",
   "metadata": {},
   "outputs": [],
   "source": []
  }
 ],
 "metadata": {
  "kernelspec": {
   "display_name": "Python 3 (ipykernel)",
   "language": "python",
   "name": "python3"
  },
  "language_info": {
   "codemirror_mode": {
    "name": "ipython",
    "version": 3
   },
   "file_extension": ".py",
   "mimetype": "text/x-python",
   "name": "python",
   "nbconvert_exporter": "python",
   "pygments_lexer": "ipython3",
   "version": "3.11.5"
  }
 },
 "nbformat": 4,
 "nbformat_minor": 5
}
