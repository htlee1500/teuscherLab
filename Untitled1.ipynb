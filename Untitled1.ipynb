{
 "cells": [
  {
   "cell_type": "code",
   "execution_count": 1,
   "id": "98d68067",
   "metadata": {},
   "outputs": [],
   "source": [
    "from brian2 import *\n",
    "import numpy\n",
    "import numpy\n",
    "%matplotlib inline"
   ]
  },
  {
   "cell_type": "code",
   "execution_count": 31,
   "id": "8ed86f21",
   "metadata": {},
   "outputs": [
    {
     "name": "stdout",
     "output_type": "stream",
     "text": [
      "[(323.19758282011463-3.928253868990355j), (142.62143156664837-1.0777095875462293j), 84.59690572008311, 57.71318671491126, 42.69948451993898]\n",
      "[42.69948451993898, 33.34390915087949, 27.08064196395331, 22.670920760466455, 19.45141169104436]\n"
     ]
    }
   ],
   "source": [
    "import math\n",
    "\n",
    "# This cell generates Lanczos approximations of the gamma function\n",
    "# https://www.numericana.com/answer/info/godfrey.htm\n",
    "# NOTE: Set B to generate desired gamma values.\n",
    "# NOTE: Generated gamma values must be directly added to the equations\n",
    "\n",
    "B = 0.2\n",
    "\n",
    "\n",
    "c = [\n",
    "    1.0000018972739440364,\n",
    "    76.180082222642137322,\n",
    "    -86.505092037054859197,\n",
    "    24.012898581922685900,\n",
    "    -1.2296028490285820771\n",
    "]\n",
    "\n",
    "gamma_double_param = list()\n",
    "\n",
    "for k in range(5):\n",
    "    gamma = math.sqrt(math.pi*2) * (B*k + B - 0.5)**(B*k + B - 0.5) * math.e**(-1 * (B*k + B - 0.5))\n",
    "    #print(gamma)\n",
    "    #print((B*k + B - 0.5)**(B*k + B - 0.5))\n",
    "    gamma = gamma + c[0]\n",
    "    \n",
    "    \n",
    "    for n in range(1, 5):\n",
    "        gamma = gamma + c[n]/(B*k + B - 1 + n)\n",
    "        \n",
    "    gamma_double_param.append(gamma)\n",
    "\n",
    "gamma_single_param = list()\n",
    "\n",
    "for k in range(5):\n",
    "    gamma = math.sqrt(math.pi*2) * (B*k + 0.5)**(B*k + 0.5) * math.e**(-1 * (B*k + 0.5))\n",
    "    gamma = gamma + c[0]\n",
    "    \n",
    "    for n in range(1, 5):\n",
    "        gamma = gamma + c[n]/(B*k + n)\n",
    "        \n",
    "    gamma_single_param.append(gamma)\n",
    "\n",
    "print(gamma_double_param)\n",
    "print(gamma_single_param)"
   ]
  },
  {
   "cell_type": "code",
   "execution_count": 7,
   "id": "7ca2a37f",
   "metadata": {},
   "outputs": [
    {
     "name": "stderr",
     "output_type": "stream",
     "text": [
      "WARNING    'synapses_3' has been included in the network but not the object on which it depends.Setting 'synapses_3' to inactive. [brian2.core.magic.dependency_warning]\n",
      "WARNING    'synapses_2' has been included in the network but not the object on which it depends.Setting 'synapses_2' to inactive. [brian2.core.magic.dependency_warning]\n"
     ]
    }
   ],
   "source": [
    "#start_scope()\n",
    "\n",
    "# parameter for noise\n",
    "sigma = 0.0\n",
    "\n",
    "# parameters for network size\n",
    "inputDim = 10\n",
    "numHidden = 3\n",
    "hiddenDim = 10\n",
    "outputDim = 10\n",
    "\n",
    "# diff-equation for neurons\n",
    "eqs = '''\n",
    "dv/dt = (I-v)/tau + sigma*xi*tau**-0.5 : 1 (unless refractory)\n",
    "I : 1\n",
    "tau : second\n",
    "'''\n",
    "\n",
    "\n",
    "\n",
    "\n",
    "# setup for neurons\n",
    "InputLayer = NeuronGroup(inputDim, eqs, threshold='v>=1', reset='v = 0', refractory=5*ms, method='euler')\n",
    "inputCurrent = list()\n",
    "inputTau = list()\n",
    "for i in range(inputDim):\n",
    "    inputCurrent.append(.05)\n",
    "    inputTau.append(10)\n",
    "InputLayer.I = inputCurrent\n",
    "InputLayer.tau = inputTau*ms\n",
    "\n",
    "HiddenLayers = list()\n",
    "for i in range(numHidden):\n",
    "    HiddenLayers.append(NeuronGroup(hiddenDim, eqs, threshold='v>=1', reset='v = 0', refractory=5*ms, method='euler'))\n",
    "    hiddenCurrent = list()\n",
    "    hiddenTau = list()\n",
    "    for j in range(hiddenDim):\n",
    "        hiddenCurrent.append(.05)\n",
    "        hiddenTau.append(10)\n",
    "    \n",
    "    HiddenLayers[i].I = hiddenCurrent\n",
    "    HiddenLayers[i].tau = hiddenTau*ms\n",
    "\n",
    "OutputLayer = NeuronGroup(outputDim, eqs, threshold='v>=1', reset='v = 0', refractory=5*ms, method='euler')\n",
    "outputCurrent = list()\n",
    "outputTau = list()\n",
    "for i in range(outputDim):\n",
    "    outputCurrent.append(.05)\n",
    "    outputTau.append(10)\n",
    "OutputLayer.I = outputCurrent\n",
    "OutputLayer.tau = outputTau*ms\n",
    "\n",
    "#Set synapses between each layer; each neuron gets its feedforward trace and spikes from the previous layer\n",
    "# input layer connects to all nodes of first hidden layer\n",
    "# hidden layers are connected to all of each other\n",
    "# final hidden layer connects to all of output layer\n",
    "InputSynapses = Synapses(InputLayer, HiddenLayers[0], 'w : 1', on_pre = 'v_post += w')\n",
    "InputSynapses.connect()\n",
    "InputSynapses.w = 0.05\n",
    "\n",
    "HiddenSynapses = list()\n",
    "for i in range(numHidden - 1): \n",
    "    HiddenSynapses.append(Synapses(HiddenLayers[i], HiddenLayers[i+1], 'w : 1', on_pre = 'v_post += w'))\n",
    "    HiddenSynapses[i].connect()\n",
    "    HiddenSynapses[i].w = 0.05\n",
    "\n",
    "OutputSynapses = Synapses(HiddenLayers[numHidden - 1], OutputLayer, 'w : 1', on_pre = 'v_post += w')\n",
    "OutputSynapses.connect()\n",
    "OutputSynapses.w = 0.05\n",
    "\n",
    "\n",
    "\n",
    "\n",
    "\n",
    "run(200*ms)"
   ]
  },
  {
   "cell_type": "code",
   "execution_count": 23,
   "id": "286efa91",
   "metadata": {},
   "outputs": [
    {
     "data": {
      "image/png": "[encoded data removed]",
      "text/plain": [
       "<Figure size 640x480 with 1 Axes>"
      ]
     },
     "metadata": {},
     "output_type": "display_data"
    }
   ],
   "source": [
    "start_scope()\n",
    "\n",
    "tau = 10*ms\n",
    "\n",
    "# two current functions I, J, where J = dI/dt\n",
    "# Customize I; set J to be its derivative w.r.t. t\n",
    "\n",
    "# two Mittag-Lefflers, E and F; E is the single-parameter version, F is the double-parameter version\n",
    "# B is our beta value\n",
    "\n",
    "# Using precomputed gamma approximations\n",
    "\n",
    "eqs = '''\n",
    "dv/dt = J/g - I/g * F * B/tau * t**(B-1) - E * J/g\n",
    "I = c*t : second\n",
    "J = c : 1\n",
    "c = 1 : 1\n",
    "B = 0.2 : 1\n",
    "F = \n",
    "'''\n",
    "\n",
    "temp = '''\n",
    "dv/dt = I/tau**2 : 1\n",
    "I = c*t : second\n",
    "J = c : 1\n",
    "c = 1 : 1\n",
    "'''\n",
    "\n",
    "G = NeuronGroup(1, temp, method='euler')\n",
    "M = StateMonitor(G, 'v', record=True)\n",
    "\n",
    "run(1000*ms)\n",
    "\n",
    "plot(M.t/ms, M.v[0])\n",
    "xlabel('Time (ms)')\n",
    "ylabel('v');"
   ]
  },
  {
   "cell_type": "code",
   "execution_count": null,
   "id": "d335b13a",
   "metadata": {},
   "outputs": [],
   "source": []
  }
 ],
 "metadata": {
  "kernelspec": {
   "display_name": "Python 3 (ipykernel)",
   "language": "python",
   "name": "python3"
  },
  "language_info": {
   "codemirror_mode": {
    "name": "ipython",
    "version": 3
   },
   "file_extension": ".py",
   "mimetype": "text/x-python",
   "name": "python",
   "nbconvert_exporter": "python",
   "pygments_lexer": "ipython3",
   "version": "3.11.5"
  }
 },
 "nbformat": 4,
 "nbformat_minor": 5
}
